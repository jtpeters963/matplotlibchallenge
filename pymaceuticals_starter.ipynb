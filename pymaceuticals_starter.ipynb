{
 "cells": [
  {
   "cell_type": "markdown",
   "metadata": {},
   "source": [
    "## Observations and Insights"
   ]
  },
  {
   "cell_type": "markdown",
   "metadata": {},
   "source": []
  },
  {
   "cell_type": "markdown",
   "metadata": {},
   "source": [
    "## Dependencies and starter code"
   ]
  },
  {
   "cell_type": "code",
   "execution_count": 1,
   "metadata": {},
   "outputs": [],
   "source": [
    "# Dependencies and Setup\n",
    "import matplotlib.pyplot as plt\n",
    "import pandas as pd\n",
    "import scipy.stats as st\n",
    "from scipy.stats import linregress\n",
    "import numpy as np\n",
    "\n",
    "# Study data files\n",
    "mouse_metadata = \"data/Mouse_metadata.csv\"\n",
    "study_results = \"data/Study_results.csv\"\n",
    "\n",
    "# Read the mouse data and the study results\n",
    "mouse_metadata = pd.read_csv(mouse_metadata)\n",
    "study_results = pd.read_csv(study_results)\n",
    "\n",
    "# Combine the data into a single dataset\n",
    "df1=pd.merge(mouse_metadata, study_results, on='Mouse ID', how='right')\n",
    "df= df1.sort_values('Timepoint').groupby('Mouse ID').tail(1)  #Final timepoint dataframe"
   ]
  },
  {
   "cell_type": "markdown",
   "metadata": {},
   "source": [
    "## Summary statistics"
   ]
  },
  {
   "cell_type": "code",
   "execution_count": 2,
   "metadata": {},
   "outputs": [
    {
     "data": {
      "text/html": [
       "<div>\n",
       "<style scoped>\n",
       "    .dataframe tbody tr th:only-of-type {\n",
       "        vertical-align: middle;\n",
       "    }\n",
       "\n",
       "    .dataframe tbody tr th {\n",
       "        vertical-align: top;\n",
       "    }\n",
       "\n",
       "    .dataframe thead th {\n",
       "        text-align: right;\n",
       "    }\n",
       "</style>\n",
       "<table border=\"1\" class=\"dataframe\">\n",
       "  <thead>\n",
       "    <tr style=\"text-align: right;\">\n",
       "      <th></th>\n",
       "      <th>Tumor Volume Mean (mm$^3$)</th>\n",
       "      <th>Tumor Volume Median (mm$^3$)</th>\n",
       "      <th>Variance</th>\n",
       "      <th>Std. Dev.</th>\n",
       "      <th>SEM</th>\n",
       "    </tr>\n",
       "    <tr>\n",
       "      <th>Drug Regimen</th>\n",
       "      <th></th>\n",
       "      <th></th>\n",
       "      <th></th>\n",
       "      <th></th>\n",
       "      <th></th>\n",
       "    </tr>\n",
       "  </thead>\n",
       "  <tbody>\n",
       "    <tr>\n",
       "      <th>Capomulin</th>\n",
       "      <td>40.675741</td>\n",
       "      <td>41.557809</td>\n",
       "      <td>24.947764</td>\n",
       "      <td>4.994774</td>\n",
       "      <td>0.329346</td>\n",
       "    </tr>\n",
       "    <tr>\n",
       "      <th>Ceftamin</th>\n",
       "      <td>52.591172</td>\n",
       "      <td>51.776157</td>\n",
       "      <td>39.290177</td>\n",
       "      <td>6.268188</td>\n",
       "      <td>0.469821</td>\n",
       "    </tr>\n",
       "    <tr>\n",
       "      <th>Infubinol</th>\n",
       "      <td>52.884795</td>\n",
       "      <td>51.820584</td>\n",
       "      <td>43.128684</td>\n",
       "      <td>6.567243</td>\n",
       "      <td>0.492236</td>\n",
       "    </tr>\n",
       "    <tr>\n",
       "      <th>Ketapril</th>\n",
       "      <td>55.235638</td>\n",
       "      <td>53.698743</td>\n",
       "      <td>68.553577</td>\n",
       "      <td>8.279709</td>\n",
       "      <td>0.603860</td>\n",
       "    </tr>\n",
       "    <tr>\n",
       "      <th>Naftisol</th>\n",
       "      <td>54.331565</td>\n",
       "      <td>52.509285</td>\n",
       "      <td>66.173479</td>\n",
       "      <td>8.134708</td>\n",
       "      <td>0.596466</td>\n",
       "    </tr>\n",
       "    <tr>\n",
       "      <th>Placebo</th>\n",
       "      <td>54.033581</td>\n",
       "      <td>52.288934</td>\n",
       "      <td>61.168083</td>\n",
       "      <td>7.821003</td>\n",
       "      <td>0.581331</td>\n",
       "    </tr>\n",
       "    <tr>\n",
       "      <th>Propriva</th>\n",
       "      <td>52.322552</td>\n",
       "      <td>50.854632</td>\n",
       "      <td>42.351070</td>\n",
       "      <td>6.507770</td>\n",
       "      <td>0.512884</td>\n",
       "    </tr>\n",
       "    <tr>\n",
       "      <th>Ramicane</th>\n",
       "      <td>40.216745</td>\n",
       "      <td>40.673236</td>\n",
       "      <td>23.486704</td>\n",
       "      <td>4.846308</td>\n",
       "      <td>0.320955</td>\n",
       "    </tr>\n",
       "    <tr>\n",
       "      <th>Stelasyn</th>\n",
       "      <td>54.233149</td>\n",
       "      <td>52.431737</td>\n",
       "      <td>59.450562</td>\n",
       "      <td>7.710419</td>\n",
       "      <td>0.573111</td>\n",
       "    </tr>\n",
       "    <tr>\n",
       "      <th>Zoniferol</th>\n",
       "      <td>53.236507</td>\n",
       "      <td>51.818479</td>\n",
       "      <td>48.533355</td>\n",
       "      <td>6.966589</td>\n",
       "      <td>0.516398</td>\n",
       "    </tr>\n",
       "  </tbody>\n",
       "</table>\n",
       "</div>"
      ],
      "text/plain": [
       "              Tumor Volume Mean (mm$^3$)  Tumor Volume Median (mm$^3$)  \\\n",
       "Drug Regimen                                                             \n",
       "Capomulin                      40.675741                     41.557809   \n",
       "Ceftamin                       52.591172                     51.776157   \n",
       "Infubinol                      52.884795                     51.820584   \n",
       "Ketapril                       55.235638                     53.698743   \n",
       "Naftisol                       54.331565                     52.509285   \n",
       "Placebo                        54.033581                     52.288934   \n",
       "Propriva                       52.322552                     50.854632   \n",
       "Ramicane                       40.216745                     40.673236   \n",
       "Stelasyn                       54.233149                     52.431737   \n",
       "Zoniferol                      53.236507                     51.818479   \n",
       "\n",
       "               Variance  Std. Dev.       SEM  \n",
       "Drug Regimen                                  \n",
       "Capomulin     24.947764   4.994774  0.329346  \n",
       "Ceftamin      39.290177   6.268188  0.469821  \n",
       "Infubinol     43.128684   6.567243  0.492236  \n",
       "Ketapril      68.553577   8.279709  0.603860  \n",
       "Naftisol      66.173479   8.134708  0.596466  \n",
       "Placebo       61.168083   7.821003  0.581331  \n",
       "Propriva      42.351070   6.507770  0.512884  \n",
       "Ramicane      23.486704   4.846308  0.320955  \n",
       "Stelasyn      59.450562   7.710419  0.573111  \n",
       "Zoniferol     48.533355   6.966589  0.516398  "
      ]
     },
     "execution_count": 2,
     "metadata": {},
     "output_type": "execute_result"
    }
   ],
   "source": [
    "# Generate a summary statistics table of mean, median, variance, standard deviation, and SEM of the tumor volume for each regimen\n",
    "average = df1['Tumor Volume (mm3)'].groupby(df1['Drug Regimen']).mean()\n",
    "median = df1['Tumor Volume (mm3)'].groupby(df1['Drug Regimen']).median()\n",
    "variance = df1['Tumor Volume (mm3)'].groupby(df1['Drug Regimen']).var()\n",
    "std_dev = df1['Tumor Volume (mm3)'].groupby(df1['Drug Regimen']).std()\n",
    "mouse_sem= df1['Tumor Volume (mm3)'].groupby(df1['Drug Regimen']).sem()\n",
    "summary = pd.merge(average, median, on= 'Drug Regimen', suffixes=(' Mean',' Median'))\n",
    "summary = pd.merge(summary, variance, on= 'Drug Regimen')\n",
    "summary = summary.rename(columns={'Tumor Volume (mm3)':'Variance'})\n",
    "summary = pd.merge(summary,std_dev, on='Drug Regimen')\n",
    "summary = summary.rename(columns={'Tumor Volume (mm3)':'Std. Dev.'})\n",
    "summary = pd.merge(summary,mouse_sem, on='Drug Regimen')\n",
    "summary = summary.rename(columns={'Tumor Volume (mm3) Mean':r'Tumor Volume Mean (mm$^3$)',\n",
    "                                  'Tumor Volume (mm3) Median':r'Tumor Volume Median (mm$^3$)',\n",
    "                                  'Tumor Volume (mm3)':'SEM'})\n",
    "summary.head(30)"
   ]
  },
  {
   "cell_type": "markdown",
   "metadata": {},
   "source": [
    "## Bar plots"
   ]
  },
  {
   "cell_type": "code",
   "execution_count": 3,
   "metadata": {},
   "outputs": [
    {
     "data": {
      "image/png": "[encoded data removed]",
      "text/plain": [
       "<Figure size 432x288 with 1 Axes>"
      ]
     },
     "metadata": {
      "needs_background": "light"
     },
     "output_type": "display_data"
    }
   ],
   "source": [
    "# Generate a bar plot showing number of data points for each treatment regimen using pandas\n",
    "counts = df1.groupby(['Drug Regimen']).count()\n",
    "counts.reindex()\n",
    "countsplt = counts[['Mouse ID']]\n",
    "countsplt.plot.bar(legend = False)\n",
    "plt.ylabel('Number of Data Points')\n",
    "plt.show()"
   ]
  },
  {
   "cell_type": "code",
   "execution_count": 4,
   "metadata": {},
   "outputs": [
    {
     "data": {
      "image/png": "[encoded data removed]",
      "text/plain": [
       "<Figure size 432x288 with 1 Axes>"
      ]
     },
     "metadata": {
      "needs_background": "light"
     },
     "output_type": "display_data"
    }
   ],
   "source": [
    "# Generate a bar plot showing number of data points for each treatment regimen using pyplot\n",
    "xval = np.arange(0,len(counts))\n",
    "plt.bar(xval,counts['Mouse ID'])\n",
    "plt.xticks(xval, counts.index, rotation=\"vertical\")\n",
    "plt.ylabel('Number of Data Points')\n",
    "plt.xlabel('Drug Regimen')\n",
    "plt.show()"
   ]
  },
  {
   "cell_type": "markdown",
   "metadata": {},
   "source": [
    "## Pie plots"
   ]
  },
  {
   "cell_type": "code",
   "execution_count": 5,
   "metadata": {
    "scrolled": true
   },
   "outputs": [
    {
     "data": {
      "image/png": "[encoded data removed]",
      "text/plain": [
       "<Figure size 432x288 with 1 Axes>"
      ]
     },
     "metadata": {},
     "output_type": "display_data"
    },
    {
     "data": {
      "text/plain": [
       "Sex\n",
       "Female    124\n",
       "Male      125\n",
       "Name: Mouse ID, dtype: int64"
      ]
     },
     "execution_count": 5,
     "metadata": {},
     "output_type": "execute_result"
    }
   ],
   "source": [
    "# Generate a pie plot showing the distribution of female versus male mice using pandas\n",
    "gender = df.groupby(['Sex']).count()['Mouse ID']\n",
    "plot = gender.plot.pie(legend = False)\n",
    "plt.title('Distribution of gender')\n",
    "plt.show()\n",
    "gender.head()"
   ]
  },
  {
   "cell_type": "code",
   "execution_count": 6,
   "metadata": {},
   "outputs": [
    {
     "data": {
      "image/png": "[encoded data removed]",
      "text/plain": [
       "<Figure size 432x288 with 1 Axes>"
      ]
     },
     "metadata": {},
     "output_type": "display_data"
    }
   ],
   "source": [
    "# Generate a pie plot showing the distribution of female versus male mice using pyplot\n",
    "plt.pie(gender, labels = gender.index,autopct=\"%1.2f%%\")\n",
    "plt.title('Distribution of gender')\n",
    "plt.show()"
   ]
  },
  {
   "cell_type": "markdown",
   "metadata": {},
   "source": [
    "## Quartiles, outliers and boxplots"
   ]
  },
  {
   "cell_type": "code",
   "execution_count": 16,
   "metadata": {},
   "outputs": [
    {
     "data": {
      "text/html": [
       "<div>\n",
       "<style scoped>\n",
       "    .dataframe tbody tr th:only-of-type {\n",
       "        vertical-align: middle;\n",
       "    }\n",
       "\n",
       "    .dataframe tbody tr th {\n",
       "        vertical-align: top;\n",
       "    }\n",
       "\n",
       "    .dataframe thead th {\n",
       "        text-align: right;\n",
       "    }\n",
       "</style>\n",
       "<table border=\"1\" class=\"dataframe\">\n",
       "  <thead>\n",
       "    <tr style=\"text-align: right;\">\n",
       "      <th></th>\n",
       "      <th>Mouse ID</th>\n",
       "      <th>Drug Regimen</th>\n",
       "      <th>Sex</th>\n",
       "      <th>Age_months</th>\n",
       "      <th>Weight (g)</th>\n",
       "      <th>Timepoint</th>\n",
       "      <th>Tumor Volume (mm3)</th>\n",
       "      <th>Metastatic Sites</th>\n",
       "    </tr>\n",
       "  </thead>\n",
       "  <tbody>\n",
       "  </tbody>\n",
       "</table>\n",
       "</div>"
      ],
      "text/plain": [
       "Empty DataFrame\n",
       "Columns: [Mouse ID, Drug Regimen, Sex, Age_months, Weight (g), Timepoint, Tumor Volume (mm3), Metastatic Sites]\n",
       "Index: []"
      ]
     },
     "execution_count": 16,
     "metadata": {},
     "output_type": "execute_result"
    }
   ],
   "source": [
    "# Calculate the final tumor volume of each mouse across four of the most promising treatment regimens. Calculate the IQR and quantitatively determine if there are any potential outliers. \n",
    "third = 'Infubinol'\n",
    "Capomulin = df.loc[df['Drug Regimen']=='Capomulin',:]\n",
    "Ramicane = df.loc[df['Drug Regimen']=='Ramicane',:]\n",
    "third_drug = df.loc[df['Drug Regimen']==third,:]\n",
    "Ceftamin = df.loc[df['Drug Regimen']=='Ceftamin',:]\n",
    "Capo_sort=Capomulin['Tumor Volume (mm3)'].sort_values()\n",
    "Capo_quartiles = Capo_sort.quantile([.25,.5,.75])\n",
    "Capo_IQR=Capo_quartiles[0.75]-Capo_quartiles[0.25]\n",
    "Capo_lower = Capo_quartiles[0.25]-1.5*Capo_IQR\n",
    "Capo_upper = Capo_quartiles[0.75]+1.5*Capo_IQR\n",
    "Capo_outliers=Capomulin.loc[(Capomulin['Tumor Volume (mm3)']>Capo_upper) | (Capomulin['Tumor Volume (mm3)']<Capo_lower),:]\n",
    "Capo_outliers"
   ]
  },
  {
   "cell_type": "code",
   "execution_count": 17,
   "metadata": {},
   "outputs": [
    {
     "data": {
      "text/html": [
       "<div>\n",
       "<style scoped>\n",
       "    .dataframe tbody tr th:only-of-type {\n",
       "        vertical-align: middle;\n",
       "    }\n",
       "\n",
       "    .dataframe tbody tr th {\n",
       "        vertical-align: top;\n",
       "    }\n",
       "\n",
       "    .dataframe thead th {\n",
       "        text-align: right;\n",
       "    }\n",
       "</style>\n",
       "<table border=\"1\" class=\"dataframe\">\n",
       "  <thead>\n",
       "    <tr style=\"text-align: right;\">\n",
       "      <th></th>\n",
       "      <th>Mouse ID</th>\n",
       "      <th>Drug Regimen</th>\n",
       "      <th>Sex</th>\n",
       "      <th>Age_months</th>\n",
       "      <th>Weight (g)</th>\n",
       "      <th>Timepoint</th>\n",
       "      <th>Tumor Volume (mm3)</th>\n",
       "      <th>Metastatic Sites</th>\n",
       "    </tr>\n",
       "  </thead>\n",
       "  <tbody>\n",
       "  </tbody>\n",
       "</table>\n",
       "</div>"
      ],
      "text/plain": [
       "Empty DataFrame\n",
       "Columns: [Mouse ID, Drug Regimen, Sex, Age_months, Weight (g), Timepoint, Tumor Volume (mm3), Metastatic Sites]\n",
       "Index: []"
      ]
     },
     "execution_count": 17,
     "metadata": {},
     "output_type": "execute_result"
    }
   ],
   "source": [
    "Rami_sort=Ramicane['Tumor Volume (mm3)'].sort_values()\n",
    "Rami_quartiles = Rami_sort.quantile([.25,.5,.75])\n",
    "Rami_IQR=Rami_quartiles[0.75]-Rami_quartiles[0.25]\n",
    "Rami_lower = Rami_quartiles[0.25]-1.5*Rami_IQR\n",
    "Rami_upper = Rami_quartiles[0.75]+1.5*Rami_IQR\n",
    "Rami_outliers=Ramicane.loc[(Ramicane['Tumor Volume (mm3)']>Rami_upper) | (Ramicane['Tumor Volume (mm3)']<Rami_lower),:]\n",
    "Rami_outliers"
   ]
  },
  {
   "cell_type": "code",
   "execution_count": 18,
   "metadata": {},
   "outputs": [
    {
     "data": {
      "text/html": [
       "<div>\n",
       "<style scoped>\n",
       "    .dataframe tbody tr th:only-of-type {\n",
       "        vertical-align: middle;\n",
       "    }\n",
       "\n",
       "    .dataframe tbody tr th {\n",
       "        vertical-align: top;\n",
       "    }\n",
       "\n",
       "    .dataframe thead th {\n",
       "        text-align: right;\n",
       "    }\n",
       "</style>\n",
       "<table border=\"1\" class=\"dataframe\">\n",
       "  <thead>\n",
       "    <tr style=\"text-align: right;\">\n",
       "      <th></th>\n",
       "      <th>Mouse ID</th>\n",
       "      <th>Drug Regimen</th>\n",
       "      <th>Sex</th>\n",
       "      <th>Age_months</th>\n",
       "      <th>Weight (g)</th>\n",
       "      <th>Timepoint</th>\n",
       "      <th>Tumor Volume (mm3)</th>\n",
       "      <th>Metastatic Sites</th>\n",
       "    </tr>\n",
       "  </thead>\n",
       "  <tbody>\n",
       "    <tr>\n",
       "      <th>669</th>\n",
       "      <td>c326</td>\n",
       "      <td>Infubinol</td>\n",
       "      <td>Female</td>\n",
       "      <td>18</td>\n",
       "      <td>25</td>\n",
       "      <td>5</td>\n",
       "      <td>36.321346</td>\n",
       "      <td>0</td>\n",
       "    </tr>\n",
       "  </tbody>\n",
       "</table>\n",
       "</div>"
      ],
      "text/plain": [
       "    Mouse ID Drug Regimen     Sex  Age_months  Weight (g)  Timepoint  \\\n",
       "669     c326    Infubinol  Female          18          25          5   \n",
       "\n",
       "     Tumor Volume (mm3)  Metastatic Sites  \n",
       "669           36.321346                 0  "
      ]
     },
     "execution_count": 18,
     "metadata": {},
     "output_type": "execute_result"
    }
   ],
   "source": [
    "third_sort=third_drug['Tumor Volume (mm3)'].sort_values()\n",
    "third_quartiles = third_sort.quantile([.25,.5,.75])\n",
    "third_IQR=third_quartiles[0.75]-third_quartiles[0.25]\n",
    "third_lower = third_quartiles[0.25]-1.5*third_IQR\n",
    "third_upper = third_quartiles[0.75]+1.5*third_IQR\n",
    "third_outliers = third_drug.loc[(third_drug['Tumor Volume (mm3)']>third_upper) | (third_drug['Tumor Volume (mm3)']<third_lower),:]\n",
    "third_outliers"
   ]
  },
  {
   "cell_type": "code",
   "execution_count": 19,
   "metadata": {},
   "outputs": [
    {
     "data": {
      "text/html": [
       "<div>\n",
       "<style scoped>\n",
       "    .dataframe tbody tr th:only-of-type {\n",
       "        vertical-align: middle;\n",
       "    }\n",
       "\n",
       "    .dataframe tbody tr th {\n",
       "        vertical-align: top;\n",
       "    }\n",
       "\n",
       "    .dataframe thead th {\n",
       "        text-align: right;\n",
       "    }\n",
       "</style>\n",
       "<table border=\"1\" class=\"dataframe\">\n",
       "  <thead>\n",
       "    <tr style=\"text-align: right;\">\n",
       "      <th></th>\n",
       "      <th>Mouse ID</th>\n",
       "      <th>Drug Regimen</th>\n",
       "      <th>Sex</th>\n",
       "      <th>Age_months</th>\n",
       "      <th>Weight (g)</th>\n",
       "      <th>Timepoint</th>\n",
       "      <th>Tumor Volume (mm3)</th>\n",
       "      <th>Metastatic Sites</th>\n",
       "    </tr>\n",
       "  </thead>\n",
       "  <tbody>\n",
       "  </tbody>\n",
       "</table>\n",
       "</div>"
      ],
      "text/plain": [
       "Empty DataFrame\n",
       "Columns: [Mouse ID, Drug Regimen, Sex, Age_months, Weight (g), Timepoint, Tumor Volume (mm3), Metastatic Sites]\n",
       "Index: []"
      ]
     },
     "execution_count": 19,
     "metadata": {},
     "output_type": "execute_result"
    }
   ],
   "source": [
    "Ceft_sort=Ceftamin['Tumor Volume (mm3)'].sort_values()\n",
    "Ceft_quartiles = Ceft_sort.quantile([.25,.5,.75])\n",
    "Ceft_IQR=Ceft_quartiles[0.75]-Ceft_quartiles[0.25]\n",
    "Ceft_lower = Ceft_quartiles[0.25]-1.5*Ceft_IQR\n",
    "Ceft_upper = Ceft_quartiles[0.75]+1.5*Ceft_IQR\n",
    "Ceft_outliers= Ceftamin.loc[(Ceftamin['Tumor Volume (mm3)']>Ceft_upper) | (Ceftamin['Tumor Volume (mm3)']<Ceft_lower),:]\n",
    "Ceft_outliers"
   ]
  },
  {
   "cell_type": "code",
   "execution_count": 20,
   "metadata": {},
   "outputs": [
    {
     "data": {
      "image/png": "[encoded data removed]",
      "text/plain": [
       "<Figure size 432x288 with 1 Axes>"
      ]
     },
     "metadata": {
      "needs_background": "light"
     },
     "output_type": "display_data"
    }
   ],
   "source": [
    "# Generate a box plot of the final tumor volume of each mouse across four regimens of interest\n",
    "fig1, ax1 = plt.subplots()\n",
    "# red_square = dict(markerfacecolor='r', marker='s')\n",
    "ax1.set_title('Tumor Volumes')\n",
    "ax1.set_ylabel(r'Tumor Volume mm$^3$')\n",
    "ax1.boxplot([Capomulin['Tumor Volume (mm3)'], Ramicane['Tumor Volume (mm3)'],third_drug['Tumor Volume (mm3)'],Ceftamin['Tumor Volume (mm3)']],flierprops=dict(markerfacecolor='b', marker='s'))\n",
    "plt.xticks([1, 2, 3,4], ['Capomulin', 'Ramicane',third,'Ceftamin'])\n",
    "plt.show()"
   ]
  },
  {
   "cell_type": "markdown",
   "metadata": {},
   "source": [
    "## Line and scatter plots"
   ]
  },
  {
   "cell_type": "code",
   "execution_count": null,
   "metadata": {},
   "outputs": [],
   "source": []
  },
  {
   "cell_type": "code",
   "execution_count": 21,
   "metadata": {},
   "outputs": [
    {
     "data": {
      "image/png": "[encoded data removed]",
      "text/plain": [
       "<Figure size 432x288 with 1 Axes>"
      ]
     },
     "metadata": {
      "needs_background": "light"
     },
     "output_type": "display_data"
    }
   ],
   "source": [
    "# Generate a line plot of time point versus tumor volume for a mouse treated with Capomulin\n",
    "capo_mice=df1.loc[df1['Drug Regimen']=='Capomulin']\n",
    "mouse = 'm601'\n",
    "s185=capo_mice.loc[capo_mice['Mouse ID']==mouse]['Tumor Volume (mm3)']\n",
    "xval = np.arange(0,len(s185))\n",
    "xval = xval*5\n",
    "plt.plot(xval,s185)\n",
    "plt.xlabel('Timepoint')\n",
    "plt.ylabel(r'Tumor Volume $(mm^3)$')\n",
    "plt.title(f'Mouse {mouse} Tumor Volume over Time')\n",
    "plt.ylim(0,max(s185)+5)\n",
    "plt.show()"
   ]
  },
  {
   "cell_type": "code",
   "execution_count": 13,
   "metadata": {},
   "outputs": [
    {
     "data": {
      "image/png": "[encoded data removed]",
      "text/plain": [
       "<Figure size 432x288 with 1 Axes>"
      ]
     },
     "metadata": {
      "needs_background": "light"
     },
     "output_type": "display_data"
    }
   ],
   "source": [
    "capo_time = capo_mice.groupby('Timepoint').mean()['Tumor Volume (mm3)']\n",
    "capo_time_error = capo_mice.groupby('Timepoint').sem()['Tumor Volume (mm3)']\n",
    "\n",
    "fant,nb=plt.subplots()\n",
    "nb.errorbar(capo_time.index,capo_time,capo_time_error, fmt ='o', color='red')\n",
    "nb.set_xlim(0, len(capo_time)*5 + 1)\n",
    "nb.set_xlabel(\"Timepoint\")\n",
    "nb.set_ylabel(r\"Tumor Volume $(mm^3)$\")\n",
    "nb.set_title('Capomulin Regimen Effect on Tumor Volume')\n",
    "plt.show()"
   ]
  },
  {
   "cell_type": "code",
   "execution_count": 43,
   "metadata": {},
   "outputs": [
    {
     "data": {
      "text/plain": [
       "Text(0, 0.5, 'Mice Alive')"
      ]
     },
     "execution_count": 43,
     "metadata": {},
     "output_type": "execute_result"
    },
    {
     "data": {
      "image/png": "[encoded data removed]",
      "text/plain": [
       "<Figure size 432x288 with 1 Axes>"
      ]
     },
     "metadata": {
      "needs_background": "light"
     },
     "output_type": "display_data"
    }
   ],
   "source": [
    "df2 = df1.groupby(['Drug Regimen','Timepoint']).count()['Mouse ID']\n",
    "df3=df2.unstack(0)\n",
    "df3.plot(legend= True)\n",
    "plt.legend(loc='best')\n",
    "plt.title('Survivability of each Drug Regimen')\n",
    "plt.ylabel('Mice Alive')"
   ]
  },
  {
   "cell_type": "code",
   "execution_count": 14,
   "metadata": {},
   "outputs": [
    {
     "name": "stdout",
     "output_type": "stream",
     "text": [
      "The correlation is 0.84.\n"
     ]
    },
    {
     "data": {
      "image/png": "[encoded data removed]",
      "text/plain": [
       "<Figure size 432x288 with 1 Axes>"
      ]
     },
     "metadata": {
      "needs_background": "light"
     },
     "output_type": "display_data"
    }
   ],
   "source": [
    "# Generate a scatter plot of mouse weight versus average tumor volume for the Capomulin regimen\n",
    "capo_averages=capo_mice.groupby('Mouse ID').mean()\n",
    "# Calculate the correlation coefficient and linear regression model for mouse weight and average tumor volume for the Capomulin regimen\n",
    "(slope, intercept, rvalue, pvalue, stderr) = linregress(capo_averages['Weight (g)'],capo_averages['Tumor Volume (mm3)'])\n",
    "correlation = st.pearsonr(capo_averages['Weight (g)'],capo_averages['Tumor Volume (mm3)'])\n",
    "print(f'The correlation is {round(correlation[0],2)}.')\n",
    "plt.scatter(capo_averages['Weight (g)'],capo_averages['Tumor Volume (mm3)'])\n",
    "xval = np.arange(min(capo_averages['Weight (g)'])-2,max(capo_averages['Weight (g)'])+6,4)\n",
    "fit = slope * xval + intercept\n",
    "plt.plot(xval,fit,\"--\")\n",
    "plt.xlabel('Mouse Weight (g)')\n",
    "plt.ylabel(r'Average Tumor Volume (mm$^3$)')\n",
    "plt.ylim(min(capo_averages['Tumor Volume (mm3)'])-5,max(capo_averages['Tumor Volume (mm3)'])+5)\n",
    "plt.xlim(min(capo_averages['Weight (g)'])-5,max(capo_averages['Weight (g)'])+5)\n",
    "plt.show()"
   ]
  },
  {
   "cell_type": "code",
   "execution_count": 15,
   "metadata": {},
   "outputs": [
    {
     "name": "stdout",
     "output_type": "stream",
     "text": [
      "Linear Regression Model is y=0.95x+21.55\n"
     ]
    }
   ],
   "source": [
    "print(f'Linear Regression Model is y={round(slope,2)}x+{round(intercept,2)}')"
   ]
  },
  {
   "cell_type": "code",
   "execution_count": null,
   "metadata": {},
   "outputs": [],
   "source": []
  }
 ],
 "metadata": {
  "anaconda-cloud": {},
  "kernelspec": {
   "display_name": "Python [conda env:PythonData] *",
   "language": "python",
   "name": "conda-env-PythonData-py"
  },
  "language_info": {
   "codemirror_mode": {
    "name": "ipython",
    "version": 3
   },
   "file_extension": ".py",
   "mimetype": "text/x-python",
   "name": "python",
   "nbconvert_exporter": "python",
   "pygments_lexer": "ipython3",
   "version": "3.6.10"
  }
 },
 "nbformat": 4,
 "nbformat_minor": 2
}
